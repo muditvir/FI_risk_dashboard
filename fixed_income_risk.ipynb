{
 "cells": [
  {
   "cell_type": "code",
   "execution_count": 1,
   "id": "9985cbfa-db86-4407-a26b-b42df463f653",
   "metadata": {},
   "outputs": [],
   "source": [
    "import pandas as pd\n",
    "import numpy as np\n",
    "import matplotlib.pyplot as plt\n",
    "import seaborn as sns\n",
    "import os"
   ]
  },
  {
   "cell_type": "code",
   "execution_count": null,
   "id": "4fd00a22-f078-4bd6-980b-ff4b0cfc32b6",
   "metadata": {},
   "outputs": [],
   "source": [
    "os.makedirs(\"data\", exist_ok=True)\n",
    "os.makedirs(\"dashboards\", exist_ok=True)\n",
    "\n",
    "yield_data = pd.read_csv(\"data/treasury_yields.csv\", parse_dates=[\"Date\"])\n",
    "yield_changes = pd.read_csv(\"data/yield_changes.csv\", parse_dates=[\"Date\"])\n",
    "\n",
    "yield_data.set_index(\"Date\", inplace=True)\n",
    "yield_changes.set_index(\"Date\", inplace=True)"
   ]
  },
  {
   "cell_type": "code",
   "execution_count": null,
   "id": "03bba15e-fdbc-4102-87a8-729977a13cc6",
   "metadata": {},
   "outputs": [],
   "source": [
    "# Portfolio exposures in USD\n",
    "exposures = {\n",
    "    \"2Y\": 25_000_000,\n",
    "    \"5Y\": 50_000_000,\n",
    "    \"10Y\": 75_000_000,\n",
    "    \"30Y\": 100_000_000\n",
    "}"
   ]
  },
  {
   "cell_type": "code",
   "execution_count": null,
   "id": "1e7e7417-5f2a-4f22-98e1-b40a4b7f4777",
   "metadata": {},
   "outputs": [],
   "source": [
    "# Calculate DV01 (1 basis point = 0.0001)\n",
    "dv01s = {tenor: notional * 0.0001 for tenor, notional in exposures.items()}\n",
    "total_dv01 = sum(dv01s.values())\n",
    "\n",
    "# DV01 dataframe\n",
    "dv01_df = pd.DataFrame({\n",
    "    'Tenor': list(dv01s.keys()),\n",
    "    'Exposure ($)': list(exposures.values()),\n",
    "    'DV01 ($)': list(dv01s.values())\n",
    "})"
   ]
  },
  {
   "cell_type": "code",
   "execution_count": null,
   "id": "b6e1d21f-4a54-41be-a2d9-b52410889c51",
   "metadata": {},
   "outputs": [],
   "source": [
    "pnl_df = pd.DataFrame(index=yield_changes.index)\n",
    "for tenor in exposures.keys():\n",
    "    pnl_df[f\"PnL_{tenor}\"] = -yield_changes[tenor] * dv01s[tenor]\n",
    "pnl_df[\"Total_PnL\"] = pnl_df.sum(axis=1)\n",
    "\n",
    "var_95 = np.percentile(pnl_df[\"Total_PnL\"], 5)"
   ]
  },
  {
   "cell_type": "code",
   "execution_count": null,
   "id": "3d272408-a356-450b-bfdb-197e2b9fb1ed",
   "metadata": {},
   "outputs": [],
   "source": [
    "with pd.ExcelWriter(\"dashboards/dashboard_output.xlsx\", engine='xlsxwriter') as writer:\n",
    "    dv01_df.to_excel(writer, sheet_name=\"DV01 Exposure\", index=False)\n",
    "    pnl_df.to_excel(writer, sheet_name=\"PnL Attribution\")\n",
    "    yield_data.to_excel(writer, sheet_name=\"Yield Curves\")\n",
    "\n",
    "pnl_df.reset_index().to_excel(\"dashboards/powerbi_dashboard_data.xlsx\", index=False)\n",
    "dv01_df.to_excel(\"dashboards/powerbi_dv01_data.xlsx\", index=False)"
   ]
  },
  {
   "cell_type": "code",
   "execution_count": 9,
   "id": "ffc28925-f782-4189-aaca-450ac73d7942",
   "metadata": {},
   "outputs": [],
   "source": [
    "# Plot 1: Yield curve evolution\n",
    "plt.figure(figsize=(12, 6))\n",
    "for tenor in yield_data.columns:\n",
    "    plt.plot(yield_data.index, yield_data[tenor], label=tenor)\n",
    "plt.title(\"Treasury Yield Curve Evolution\")\n",
    "plt.ylabel(\"Yield (%)\")\n",
    "plt.legend()\n",
    "plt.grid(True)\n",
    "plt.tight_layout()\n",
    "plt.savefig(\"data/yield_curve_plot.png\")\n",
    "plt.close()"
   ]
  },
  {
   "cell_type": "code",
   "execution_count": 10,
   "id": "2bfe653d-0671-48aa-92e0-5a0e8917828d",
   "metadata": {},
   "outputs": [],
   "source": [
    "# Plot 2: Daily PnL\n",
    "plt.figure(figsize=(12, 6))\n",
    "for tenor in exposures:\n",
    "    plt.plot(pnl_df.index, pnl_df[f\"PnL_{tenor}\"], label=f\"{tenor}\")\n",
    "plt.plot(pnl_df.index, pnl_df[\"Total_PnL\"], color='black', label=\"Total\", linewidth=2)\n",
    "plt.title(\"Daily PnL by Tenor\")\n",
    "plt.ylabel(\"PnL ($)\")\n",
    "plt.legend()\n",
    "plt.grid(True)\n",
    "plt.tight_layout()\n",
    "plt.savefig(\"dashboards/daily_pnl_breakdown.png\")\n",
    "plt.close()"
   ]
  },
  {
   "cell_type": "code",
   "execution_count": 11,
   "id": "7687180d-0a09-4c31-9396-3924246b1f99",
   "metadata": {},
   "outputs": [],
   "source": [
    "# Plot 3: PnL Distribution and VaR\n",
    "plt.figure(figsize=(10, 5))\n",
    "sns.histplot(pnl_df[\"Total_PnL\"], bins=40, kde=True)\n",
    "plt.axvline(var_95, color='red', linestyle='--', label=f\"95% VaR = ${var_95:,.0f}\")\n",
    "plt.title(\"Distribution of Daily Portfolio PnL\")\n",
    "plt.xlabel(\"Total Daily PnL ($)\")\n",
    "plt.legend()\n",
    "plt.tight_layout()\n",
    "plt.savefig(\"dashboards/pnl_distribution.png\")\n",
    "plt.close()"
   ]
  },
  {
   "cell_type": "code",
   "execution_count": 12,
   "id": "9c2b3a83-2511-43fd-a30d-9e88f647784c",
   "metadata": {},
   "outputs": [
    {
     "name": "stdout",
     "output_type": "stream",
     "text": [
      "\n",
      "✅ DV01 Exposure:\n",
      "Tenor  Exposure ($)  DV01 ($)\n",
      "   2Y      25000000    2500.0\n",
      "   5Y      50000000    5000.0\n",
      "  10Y      75000000    7500.0\n",
      "  30Y     100000000   10000.0\n",
      "\n",
      "📉 1-Day 95% Historical VaR: $-6.99\n",
      "\n",
      "📁 Files saved in 'dashboards/' and 'data/' folders.\n"
     ]
    }
   ],
   "source": [
    "print(\"\\n✅ DV01 Exposure:\")\n",
    "print(dv01_df.to_string(index=False))\n",
    "\n",
    "print(f\"\\n📉 1-Day 95% Historical VaR: ${var_95:,.2f}\")\n",
    "\n",
    "print(\"\\n📁 Files saved in 'dashboards/' and 'data/' folders.\")"
   ]
  },
  {
   "cell_type": "code",
   "execution_count": null,
   "id": "b325ff6e-0a3e-4d7b-93b3-2fd32485f839",
   "metadata": {},
   "outputs": [],
   "source": []
  }
 ],
 "metadata": {
  "kernelspec": {
   "display_name": "Python 3 (ipykernel)",
   "language": "python",
   "name": "python3"
  },
  "language_info": {
   "codemirror_mode": {
    "name": "ipython",
    "version": 3
   },
   "file_extension": ".py",
   "mimetype": "text/x-python",
   "name": "python",
   "nbconvert_exporter": "python",
   "pygments_lexer": "ipython3",
   "version": "3.13.3"
  }
 },
 "nbformat": 4,
 "nbformat_minor": 5
}
